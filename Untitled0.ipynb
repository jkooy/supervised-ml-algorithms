{
  "nbformat": 4,
  "nbformat_minor": 0,
  "metadata": {
    "colab": {
      "name": "Untitled0.ipynb",
      "provenance": [],
      "authorship_tag": "ABX9TyOfCvVlJR/FPfIKH/+yXzOF",
      "include_colab_link": true
    },
    "kernelspec": {
      "name": "python3",
      "display_name": "Python 3"
    }
  },
  "cells": [
    {
      "cell_type": "markdown",
      "metadata": {
        "id": "view-in-github",
        "colab_type": "text"
      },
      "source": [
        "<a href=\"https://colab.research.google.com/github/jkooy/supervised-ml-algorithms/blob/main/Untitled0.ipynb\" target=\"_parent\"><img src=\"https://colab.research.google.com/assets/colab-badge.svg\" alt=\"Open In Colab\"/></a>"
      ]
    },
    {
      "cell_type": "markdown",
      "metadata": {
        "id": "F2nMBtOCxMTN"
      },
      "source": [
        "##Homework Assignment 1"
      ]
    },
    {
      "cell_type": "markdown",
      "metadata": {
        "id": "jeg2hVMrxSP2"
      },
      "source": [
        "COGS 118A: Supervised Machine Learning Algorithms"
      ]
    },
    {
      "cell_type": "markdown",
      "metadata": {
        "id": "Z4HcznxTxYKU"
      },
      "source": [
        "Instructions: Please answer the questions below using Markdown language. You may search information online but you will\n",
        "need to write code/find solutions to answer the questions yourself."
      ]
    },
    {
      "cell_type": "markdown",
      "metadata": {
        "id": "j-rjeVezxYh4"
      },
      "source": [
        "Late Policy: 5% of the total points will be deducted on the first day past due. Extra 10%\n",
        "of the total points will be deducted for every extra day past due"
      ]
    },
    {
      "cell_type": "code",
      "metadata": {
        "id": "NtdZfLVtxscd"
      },
      "source": [
        ""
      ],
      "execution_count": null,
      "outputs": []
    },
    {
      "cell_type": "markdown",
      "metadata": {
        "id": "8Z31LeE2yAKb"
      },
      "source": [
        "Grade: out of 100 points"
      ]
    },
    {
      "cell_type": "code",
      "metadata": {
        "id": "SvbG7an1yBnc"
      },
      "source": [
        ""
      ],
      "execution_count": null,
      "outputs": []
    },
    {
      "cell_type": "markdown",
      "metadata": {
        "id": "ickZRBYKyCyL"
      },
      "source": [
        "**1 (20 points) Basic Calculus**"
      ]
    },
    {
      "cell_type": "markdown",
      "metadata": {
        "id": "l_Anya9yyDW2"
      },
      "source": [
        "**1.1 Derivatives with Scalars**"
      ]
    },
    {
      "cell_type": "markdown",
      "metadata": {
        "id": "ml7UpVxYyDtX"
      },
      "source": [
        "1. $f(x)=\\lambda+e^{\\lambda} + e^{\\lambda x}$ where $\\lambda$ is a constant scalar, derive $\\frac{\\partial f(x)}{\\partial x}$"
      ]
    },
    {
      "cell_type": "markdown",
      "metadata": {
        "id": "1jqzRqUdyEFw"
      },
      "source": [
        "2. $f(x)=\\ln \\left(1+e^{x}+e^{2x}\\right),$ derive $\\frac{\\partial f(x)}{\\partial x}$"
      ]
    },
    {
      "cell_type": "markdown",
      "metadata": {
        "id": "tF013bylyEbH"
      },
      "source": [
        "**1.2 Derivatives with Vectors**"
      ]
    },
    {
      "cell_type": "markdown",
      "metadata": {
        "id": "CKNk02-GyE_E"
      },
      "source": [
        "Several particular vector derivatives are useful for the course. For matrix $\\mathbf{A},$ column vector $\\mathbf{x}$ and $\\mathbf{a},$ we have"
      ]
    },
    {
      "cell_type": "markdown",
      "metadata": {
        "id": "bB427aAvyFU1"
      },
      "source": [
        "$\\frac{\\partial \\mathbf{a}^{T} \\mathbf{x}}{\\partial \\mathbf{x}}=\\frac{\\partial \\mathbf{x}^{T} \\mathbf{a}}{\\partial \\mathbf{x}}=\\mathbf{a}$\n",
        "\n",
        "$\\frac{\\partial \\mathbf{x}^{T} \\mathbf{A} \\mathbf{x}}{\\partial \\mathbf{x}}=\\left(\\mathbf{A}+\\mathbf{A}^{T}\\right) \\mathbf{x} .$ If $\\mathbf{A}$ is symmetric, $\\frac{\\partial \\mathbf{x}^{T} \\mathbf{A} \\mathbf{x}}{\\partial \\mathbf{x}}=2 \\mathbf{A} \\mathbf{x}$"
      ]
    },
    {
      "cell_type": "markdown",
      "metadata": {
        "id": "gYgrV7iF9jMs"
      },
      "source": [
        "The above rules adopt a denominator-layout notation. "
      ]
    },
    {
      "cell_type": "markdown",
      "metadata": {
        "id": "wZLSDKrC9oUW"
      },
      "source": [
        "1. $f(\\mathbf{x})=\\lambda-\\mathbf{x}^{T}\\mathbf{A}^{T}\\mathbf{x}$ where $\\mathbf{A}$ is a symmetric matrix and $\\lambda$ is a constant scalar, derive $\\frac{\\partial f(\\mathbf{x})}{\\partial \\mathbf{x}}$"
      ]
    },
    {
      "cell_type": "markdown",
      "metadata": {
        "id": "XzvH8v2x9opG"
      },
      "source": [
        "2. $f(\\mathbf{x})=(\\mathbf{a}+\\mathbf{x})^{T}(\\mathbf{a}+\\lambda \\mathbf{x})$ where $\\lambda$ is a constant scalar, derive $\\frac{\\partial f(\\mathbf{x})}{\\partial \\mathbf{x}}$"
      ]
    },
    {
      "cell_type": "markdown",
      "metadata": {
        "id": "nzTozkve9o9Y"
      },
      "source": [
        "$2 \\quad(10$ points $)$ Solving Equations"
      ]
    },
    {
      "cell_type": "markdown",
      "metadata": {
        "id": "kAoqAdnQ9py7"
      },
      "source": [
        "1. Given a system of linear equations:\n",
        "$$\n",
        "\\left\\{\\begin{array}{ll}\n",
        "-3 w_{1}+4 w_{2} & =1 \\\\\n",
        "2w_{1}- w_{2} & =2\n",
        "\\end{array}\\right.\n",
        "$$\n",
        "(a) Solve for $\\left(w_{1}, w_{2}\\right) .$"
      ]
    },
    {
      "cell_type": "markdown",
      "metadata": {
        "id": "TDY-BjT69qK5"
      },
      "source": [
        "(b) Once you obtain $\\left(w_{1}, w_{2}\\right)$ in $(\\mathrm{a}),$ please calculate final result $y$ from $y=w_{1} x_{1}+w_{2} x_{2}$ when $\\left(x_{1}, x_{2}\\right)=(2,3)$"
      ]
    },
    {
      "cell_type": "markdown",
      "metadata": {
        "id": "G29Iwabp9qs9"
      },
      "source": [
        "2. Given a system of equations:\n",
        "$$\n",
        "\\left\\{\\begin{array}{ll}\n",
        "-3 w_{1}+4 w_{2} & =b \\\\\n",
        "w_{1}-2 w_{2} & =-b \\\\\n",
        "w_{1}^{2}+w_{2}^{2} & =1\n",
        "\\end{array}\\right.\n",
        "$$\n",
        "Solve for $\\left(w_{1}, w_{2}, b\\right)$"
      ]
    },
    {
      "cell_type": "markdown",
      "metadata": {
        "id": "bBJa-JA-9rDd"
      },
      "source": [
        "3 (10 points) Basic NumPy Operations"
      ]
    },
    {
      "cell_type": "code",
      "metadata": {
        "id": "2kFeITfQAQGK"
      },
      "source": [
        "import numpy as np\n",
        "a = np.array([3,1,7])\n",
        "b = np.array([-3,4,-5])\n",
        "A = np.array([[1,4], [1,3], [7,9]])\n",
        "B = np.array([[2,-4], [-3,7], [6,-5]])"
      ],
      "execution_count": 4,
      "outputs": []
    },
    {
      "cell_type": "markdown",
      "metadata": {
        "id": "u_xnMltQ9rao"
      },
      "source": [
        "Note:\n",
        "1. In NumPy, both column vector and row vector are represented as 1-D array.\n",
        "2. np.dot(A,B) or A.dot(B) in NumPy package computes the dot product between matrices $A$ and $B$ (Strictly speaking, it is equivalent to matrix multiplication for 2-D arrays, and inner product of vectors for 1-D arrays $)$.\n",
        "3. In NumPy, binary operators such as *, /, + and - compute the element-wise operations between two matrices\n",
        "4. In the following problems, \"o\" operator means element-wise product or Hadamard product for matrices and vectors. \".\" operator means inner product for vectors.\n",
        "Please compute the following using NumPy:"
      ]
    },
    {
      "cell_type": "markdown",
      "metadata": {
        "id": "fBjr3nQj9rtH"
      },
      "source": [
        "3.1 Vector"
      ]
    },
    {
      "cell_type": "markdown",
      "metadata": {
        "id": "bpWHqz7-BfNr"
      },
      "source": [
        "$1 . \\mathbf{a} \\circ \\mathbf{b}$ \\\\\n",
        "$2 . \\mathbf{a} \\cdot \\mathbf{b}$"
      ]
    },
    {
      "cell_type": "markdown",
      "metadata": {
        "id": "4ykhsPvBHv5H"
      },
      "source": [
        "3.2 Matrix"
      ]
    },
    {
      "cell_type": "markdown",
      "metadata": {
        "id": "K2kUCgAgBfiK"
      },
      "source": [
        "1. $A\\circ B$\n",
        "2. $A^{T} B$\n",
        "3. $A B^{T}$"
      ]
    },
    {
      "cell_type": "markdown",
      "metadata": {
        "id": "_mj7rYbFBf3h"
      },
      "source": [
        "4 (10 points) Basic Plots Using Matplotlib"
      ]
    },
    {
      "cell_type": "markdown",
      "metadata": {
        "id": "0CPIv0V0H3o2"
      },
      "source": [
        "Matplotlib is a very useful library to plot graphs. Later in the course, you may need to plot\n",
        "your own graphs in your report such as: loss vs. iteration, accuracy vs. category. We will\n",
        "start with a simple exercise. Copy and paste the following code into one notebook cell in\n",
        "Jupyter:"
      ]
    },
    {
      "cell_type": "code",
      "metadata": {
        "id": "Qr-sP7UH9g-f",
        "outputId": "21ce431c-1bb1-414e-e802-4b7203bf897c",
        "colab": {
          "base_uri": "https://localhost:8080/",
          "height": 1000
        }
      },
      "source": [
        "import numpy as np\n",
        "import matplotlib.pyplot as plt\n",
        "np.random.seed(0)\n",
        "space = np.linspace(0, 10, num = 50)\n",
        "sine = np.sin(space)\n",
        "sine_5 = sine\n",
        "for i in range(5):\n",
        "  sine_5 = sine_5 + np.random.normal(scale = 0.1, size = 50)\n",
        "  plt.scatter(space, sine, color = 'b', label = 'sine_curve')\n",
        "  plt.plot(space, sine_5, color = 'r', label = 'noise_5_iters')\n",
        "  plt.legend(loc = 'upper right')\n",
        "  plt.show()"
      ],
      "execution_count": 8,
      "outputs": [
        {
          "output_type": "display_data",
          "data": {
            "image/png": "[encoded data removed]",
            "text/plain": [
              "<Figure size 432x288 with 1 Axes>"
            ]
          },
          "metadata": {
            "tags": [],
            "needs_background": "light"
          }
        },
        {
          "output_type": "display_data",
          "data": {
            "image/png": "[encoded data removed]",
            "text/plain": [
              "<Figure size 432x288 with 1 Axes>"
            ]
          },
          "metadata": {
            "tags": [],
            "needs_background": "light"
          }
        },
        {
          "output_type": "display_data",
          "data": {
            "image/png": "[encoded data removed]",
            "text/plain": [
              "<Figure size 432x288 with 1 Axes>"
            ]
          },
          "metadata": {
            "tags": [],
            "needs_background": "light"
          }
        },
        {
          "output_type": "display_data",
          "data": {
            "image/png": "[encoded data removed]",
            "text/plain": [
              "<Figure size 432x288 with 1 Axes>"
            ]
          },
          "metadata": {
            "tags": [],
            "needs_background": "light"
          }
        },
        {
          "output_type": "display_data",
          "data": {
            "image/png": "[encoded data removed]",
            "text/plain": [
              "<Figure size 432x288 with 1 Axes>"
            ]
          },
          "metadata": {
            "tags": [],
            "needs_background": "light"
          }
        }
      ]
    },
    {
      "cell_type": "markdown",
      "metadata": {
        "id": "dnwS4FGuICLO"
      },
      "source": [
        "The above code creates a graph with the original sine curve and another curve where 5\n",
        "iterations of Gaussian noise (0 mean, 0.1 standard deviation) are added to the original sine\n",
        "curve."
      ]
    },
    {
      "cell_type": "markdown",
      "metadata": {
        "id": "Bd0f4z0UIHfc"
      },
      "source": [
        "Edit the code above and apply 20 and 100 iterations of Gaussian noise (0 mean, 0.1 standard\n",
        "deviation) on the original sine curve. Plot the two new curves you obtained as well as the\n",
        "two curves from the original code. Add the legend of the additional curves and label them as\n",
        "noise 20 iters and noise 100 iters. Report your code and the final figure with four\n",
        "curves in Gradescope submission."
      ]
    },
    {
      "cell_type": "markdown",
      "metadata": {
        "id": "slMBzzw7IPW-"
      },
      "source": [
        "5 (10 points) Data Visualization"
      ]
    },
    {
      "cell_type": "markdown",
      "metadata": {
        "id": "f-y_i-t2IWM_"
      },
      "source": [
        "We will be using the Iris dataset for this problem and Question 8. The description of the\n",
        "dataset can be found at https://archive.ics.uci.edu/ml/datasets/Iris. You can load\n",
        "the dataset using the code below (recommended), or you can download the dataset here and\n",
        "load it yourself.\n",
        "1. Show a scatter plot for the first 2 feature dimensions in 2-D space.\n",
        "2. Show a scatter plot for the first 3 feature dimensions in 3-D space.\n",
        "Some useful instructions are shown below:"
      ]
    },
    {
      "cell_type": "markdown",
      "metadata": {
        "id": "NJMk9X7AIWiG"
      },
      "source": [
        "Import several useful packages into Python:"
      ]
    },
    {
      "cell_type": "code",
      "metadata": {
        "id": "3K-X0l6MIkdp"
      },
      "source": [
        "import matplotlib.pyplot as plt\n",
        "from sklearn import datasets\n",
        "from mpl_toolkits.mplot3d import Axes3D"
      ],
      "execution_count": 10,
      "outputs": []
    },
    {
      "cell_type": "markdown",
      "metadata": {
        "id": "zR7RFUkNIW1U"
      },
      "source": [
        "Load Iris dataset into Python:"
      ]
    },
    {
      "cell_type": "code",
      "metadata": {
        "id": "TjOPcA4yInDj"
      },
      "source": [
        "iris = datasets.load_iris()\n",
        "X = iris.data\n",
        "Y = iris.target"
      ],
      "execution_count": 11,
      "outputs": []
    },
    {
      "cell_type": "markdown",
      "metadata": {
        "id": "lHPS3iRDIXIF"
      },
      "source": [
        "Report your code and the scatter plots:"
      ]
    },
    {
      "cell_type": "markdown",
      "metadata": {
        "id": "Nl5BOTapIXjU"
      },
      "source": [
        "6 (10 points) Ploting Decision Boundaries"
      ]
    },
    {
      "cell_type": "markdown",
      "metadata": {
        "id": "ytritmaDIX31"
      },
      "source": [
        "Matplotlib is also useful for plotting decision boundaries, which we will introduce later in the\n",
        "class. Decision boundaries are usually visualized as lines or curves in 2-D space and planes\n",
        "in 3-D space. In fact, decision boundaries will always be (n-1)-dimensional hyper-plane in n-dimensional space. Please plot the following line (e.g. equation 1), plane (e.g. equation 2)\n",
        "and curve (e.g. equation 3), which can potentially be seen as decision boundaries later."
      ]
    },
    {
      "cell_type": "markdown",
      "metadata": {
        "id": "3VolYRQUMjcK"
      },
      "source": [
        "1. $w_{1} x_{1}+w_{2} x_{2}+b=0$  where  $\\left(w_{1}, w_{2}, b\\right)=(1,1,-8)$\n",
        "2. $w_{1} x_{1}+w_{2} x_{2}+w_{3} x_{3}+b=0$  where  $\\left(w_{1}, w_{2}, w_{3}, b\\right)=(3,5,2,-8)$\n",
        "3. $w_{1} x_{1}^{2}+w_{2} x_{2}^{2}+b=0$  where  $\\left(w_{1}, w_{2}, b\\right)=(1,1,-10)$"
      ]
    },
    {
      "cell_type": "markdown",
      "metadata": {
        "id": "8Tm8JAUPMnBF"
      },
      "source": [
        "Hint: Here is a helper function for 2-D plane plotting:"
      ]
    },
    {
      "cell_type": "code",
      "metadata": {
        "id": "A42XRW52Bd1l"
      },
      "source": [
        "import numpy as np\n",
        "import matplotlib.pyplot as plt\n",
        "from mpl_toolkits.mplot3d import Axes3D\n",
        "%config InlineBackend.figure_format = 'retina'\n",
        "'''Helper Function for 7.2'''\n",
        "def plot_plane(w1, w2, w3, b, num = 30):\n",
        "  X_range = np.linspace(0,10,num)\n",
        "  X1_plane, X2_plane, X3_plane = np.meshgrid(X_range, X_range, X_range)\n",
        "  X3_plane = (b + w1 * X1_plane + w2 * X2_plane)/(-w3)\n",
        "  fig = plt.figure(figsize = (6, 6))\n",
        "  ax = Axes3D(fig, elev = -150, azim = 130)\n",
        "  ax.scatter(X1_plane, X2_plane, X3_plane)\n",
        "  ax.set_xlabel('$x_1$')\n",
        "  ax.set_ylabel('$x_2$')\n",
        "  ax.set_zlabel('$x_3$')\n",
        "  plt.title(\"Plane: ${}x_1+{}x_2+{}x_3+{}=0$\".format(w1,w2,w3,b))\n",
        "  plt.show()"
      ],
      "execution_count": 15,
      "outputs": []
    },
    {
      "cell_type": "markdown",
      "metadata": {
        "id": "otWRzvkkMvfI"
      },
      "source": [
        "To plot lines and curves in 2-D space, you may consider using function plt.plot().\n",
        "Report your code and the figures in Gradescope submission."
      ]
    },
    {
      "cell_type": "markdown",
      "metadata": {
        "id": "euqrOI_eMyhZ"
      },
      "source": [
        "8 (25 points) Data Manipulation"
      ]
    },
    {
      "cell_type": "markdown",
      "metadata": {
        "id": "XSZYPiG3M2pr"
      },
      "source": [
        "We have already had a glimpse of the Iris dataset in Question 6. In this question, we will\n",
        "still use the Iris dataset. In fact, you can see the shape of array X is (150, 4) by running\n",
        "X.shape, which means it contains 150 data points and 4 features per data point. Here, we\n",
        "will calculate some measures of the array X and perform some basic data manipulation:"
      ]
    },
    {
      "cell_type": "markdown",
      "metadata": {
        "id": "8KG0lrebM29e"
      },
      "source": [
        "1. Show the first 2 features of the first 5 data points (i.e. first 2 columns and first 5 rows)\n",
        "of array X. (You can print the 5×2 array)."
      ]
    },
    {
      "cell_type": "markdown",
      "metadata": {
        "id": "3OQ79GhiM3P2"
      },
      "source": [
        "2. Calculate the mean and the variance of the 2nd feature (the 2nd column) of array X."
      ]
    },
    {
      "cell_type": "markdown",
      "metadata": {
        "id": "MjfFIeAKM3i8"
      },
      "source": [
        "3. Perform a linear projection on the 3 features of all data points using the weight vector\n",
        "w, where w = (3, 2, 1). You can do so by calculating a dot product between the 3\n",
        "features of all data points and the weight vector w. The shape of projected data points\n",
        "should be (150, 1) or (150,), depending on the weight vector is regarded as a matrix or\n",
        "a vector. Calculate the mean of the projected data points.\n",
        "Hint: You can calculate the projection with a single line code using np.dot, but you\n",
        "should be careful with the dimension matching for the dot product."
      ]
    },
    {
      "cell_type": "markdown",
      "metadata": {
        "id": "movrg_g8M4Ex"
      },
      "source": [
        "4. Randomly sample 3 data points (rows) of array X by randomly choosing the row indices.\n",
        "Show the indices and the sampled data points.\n",
        "Hint: np.random.randint"
      ]
    },
    {
      "cell_type": "markdown",
      "metadata": {
        "id": "VEGeXKzgM4Xt"
      },
      "source": [
        "5. Add one more feature (one more column) to the array X after the last feature. The\n",
        "values of the added feature for all data points are constant 1. Show the first data point\n",
        "(first row) of the new array.\n",
        "Hint: np.ones, np.hstack"
      ]
    },
    {
      "cell_type": "markdown",
      "metadata": {
        "id": "mb6mremoM4rU"
      },
      "source": [
        "6. Add one more data point (one more row) to the array X after the last data point. The\n",
        "value of the added data point is the same as the first data point. Show the first feature\n",
        "(first column) of the new array.\n",
        "Hint: np.vstack"
      ]
    },
    {
      "cell_type": "markdown",
      "metadata": {
        "id": "PlcEj5GoM49b"
      },
      "source": [
        "Some useful instructions are shown below:\n",
        "\n",
        "Get a row or a column of the array X:"
      ]
    },
    {
      "cell_type": "code",
      "metadata": {
        "id": "GkopgqhNIN0g",
        "outputId": "7aa849fc-8dbf-44fe-e0e3-3072c21d71c3",
        "colab": {
          "base_uri": "https://localhost:8080/"
        }
      },
      "source": [
        "print(X[0]) # Print the first row of array X.\n",
        "print(X[:, 0]) # Print the first column of array X.\n",
        "# ':' here means all rows and '0' means column 0."
      ],
      "execution_count": 17,
      "outputs": [
        {
          "output_type": "stream",
          "text": [
            "[5.1 3.5 1.4 0.2]\n",
            "[5.1 4.9 4.7 4.6 5.  5.4 4.6 5.  4.4 4.9 5.4 4.8 4.8 4.3 5.8 5.7 5.4 5.1\n",
            " 5.7 5.1 5.4 5.1 4.6 5.1 4.8 5.  5.  5.2 5.2 4.7 4.8 5.4 5.2 5.5 4.9 5.\n",
            " 5.5 4.9 4.4 5.1 5.  4.5 4.4 5.  5.1 4.8 5.1 4.6 5.3 5.  7.  6.4 6.9 5.5\n",
            " 6.5 5.7 6.3 4.9 6.6 5.2 5.  5.9 6.  6.1 5.6 6.7 5.6 5.8 6.2 5.6 5.9 6.1\n",
            " 6.3 6.1 6.4 6.6 6.8 6.7 6.  5.7 5.5 5.5 5.8 6.  5.4 6.  6.7 6.3 5.6 5.5\n",
            " 5.5 6.1 5.8 5.  5.6 5.7 5.7 6.2 5.1 5.7 6.3 5.8 7.1 6.3 6.5 7.6 4.9 7.3\n",
            " 6.7 7.2 6.5 6.4 6.8 5.7 5.8 6.4 6.5 7.7 7.7 6.  6.9 5.6 7.7 6.3 6.7 7.2\n",
            " 6.2 6.1 6.4 7.2 7.4 7.9 6.4 6.3 6.1 7.7 6.3 6.4 6.  6.9 6.7 6.9 5.8 6.8\n",
            " 6.7 6.7 6.3 6.5 6.2 5.9]\n"
          ],
          "name": "stdout"
        }
      ]
    },
    {
      "cell_type": "markdown",
      "metadata": {
        "id": "06NS4hGgNa-O"
      },
      "source": [
        "Get part of the array:"
      ]
    },
    {
      "cell_type": "code",
      "metadata": {
        "id": "mmNePH2TNOeU",
        "outputId": "83418f22-18dd-4ffe-cb82-c89a570de25c",
        "colab": {
          "base_uri": "https://localhost:8080/"
        }
      },
      "source": [
        "print(X[3:5, 1:3]) # Print 4th and 5th rows, 2nd and 3rd columns.\n",
        "print(X[:3, :2]) # Print first 3 rows, first 2 columns."
      ],
      "execution_count": 19,
      "outputs": [
        {
          "output_type": "stream",
          "text": [
            "[[3.1 1.5]\n",
            " [3.6 1.4]]\n",
            "[[5.1 3.5]\n",
            " [4.9 3. ]\n",
            " [4.7 3.2]]\n"
          ],
          "name": "stdout"
        }
      ]
    },
    {
      "cell_type": "markdown",
      "metadata": {
        "id": "tTKVpXmtNkTw"
      },
      "source": [
        "Some useful functions you might consider: numpy.mean, numpy.var, numpy.random.randint,\n",
        "numpy.append, numpy.vstack, numpy.dot, numpy.ones.\n",
        "A quick tutorial using numpy here: http://cs231n.github.io/python-numpy-tutorial/"
      ]
    },
    {
      "cell_type": "code",
      "metadata": {
        "id": "UHxq53hNNd4X"
      },
      "source": [
        ""
      ],
      "execution_count": null,
      "outputs": []
    }
  ]
}